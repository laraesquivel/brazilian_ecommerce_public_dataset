{
 "cells": [
  {
   "cell_type": "code",
   "execution_count": 1,
   "id": "a69147dc",
   "metadata": {},
   "outputs": [],
   "source": [
    "import pandas as pd\n",
    "import numpy as np\n",
    "import seaborn as sns\n",
    "import matplotlib.pyplot as plt"
   ]
  },
  {
   "cell_type": "markdown",
   "id": "01c2ff19",
   "metadata": {},
   "source": [
    "# Brazilian Ecommerce Public Dataset Olist\n",
    "\n",
    "You can find this data in <a>https://www.kaggle.com/datasets/olistbr/brazilian-ecommerce/code</a>"
   ]
  },
  {
   "cell_type": "markdown",
   "id": "41fe21fa",
   "metadata": {},
   "source": [
    "## Load Data"
   ]
  },
  {
   "cell_type": "code",
   "execution_count": 4,
   "id": "fbf551a0",
   "metadata": {},
   "outputs": [],
   "source": [
    "orders = pd.read_csv(\"../olist/olist_orders_dataset.csv\")\n",
    "orders_item= pd.read_csv(\"..\\olist\\olist_order_items_dataset.csv\")\n",
    "produts = pd.read_csv(\"..\\olist\\olist_products_dataset.csv\")\n",
    "\n",
    "customers = pd.read_csv(\"..\\olist\\olist_customers_dataset.csv\")\n",
    "geolocation = pd.read_csv(\"..\\olist\\olist_geolocation_dataset.csv\")\n",
    "payment = pd.read_csv(\"../olist/olist_order_payments_dataset.csv\")\n",
    "review = pd.read_csv(\"..\\olist\\olist_order_reviews_dataset.csv\")\n",
    "\n",
    "sellers = pd.read_csv(\"..\\olist\\olist_sellers_dataset.csv\")\n",
    "translation = pd.read_csv(\"..\\olist\\product_category_name_translation.csv\")\n"
   ]
  },
  {
   "cell_type": "markdown",
   "id": "0e29a771",
   "metadata": {},
   "source": [
    "## Data Resume"
   ]
  },
  {
   "cell_type": "markdown",
   "id": "df8dd8c1",
   "metadata": {},
   "source": [
    "### Orders"
   ]
  },
  {
   "cell_type": "code",
   "execution_count": 11,
   "id": "538eb760",
   "metadata": {},
   "outputs": [
    {
     "data": {
      "text/plain": [
       "(                           order_id                       customer_id  \\\n",
       " 0  e481f51cbdc54678b7cc49136f2d6af7  9ef432eb6251297304e76186b10a928d   \n",
       " 1  53cdb2fc8bc7dce0b6741e2150273451  b0830fb4747a6c6d20dea0b8c802d7ef   \n",
       " 2  47770eb9100c2d0c44946d9cf07ec65d  41ce2a54c0b03bf3443c3d931a367089   \n",
       " 3  949d5b44dbf5de918fe9c16f97b45f8a  f88197465ea7920adcdbec7375364d82   \n",
       " 4  ad21c59c0840e6cb83a9ceb5573f8159  8ab97904e6daea8866dbdbc4fb7aad2c   \n",
       " \n",
       "   order_status order_purchase_timestamp   order_approved_at  \\\n",
       " 0    delivered      2017-10-02 10:56:33 2017-10-02 11:07:15   \n",
       " 1    delivered      2018-07-24 20:41:37 2018-07-26 03:24:27   \n",
       " 2    delivered      2018-08-08 08:38:49 2018-08-08 08:55:23   \n",
       " 3    delivered      2017-11-18 19:28:06 2017-11-18 19:45:59   \n",
       " 4    delivered      2018-02-13 21:18:39 2018-02-13 22:20:29   \n",
       " \n",
       "   order_delivered_carrier_date order_delivered_customer_date  \\\n",
       " 0          2017-10-04 19:55:00           2017-10-10 21:25:13   \n",
       " 1          2018-07-26 14:31:00           2018-08-07 15:27:45   \n",
       " 2          2018-08-08 13:50:00           2018-08-17 18:06:29   \n",
       " 3          2017-11-22 13:39:59           2017-12-02 00:28:42   \n",
       " 4          2018-02-14 19:46:34           2018-02-16 18:17:02   \n",
       " \n",
       "   order_estimated_delivery_date  \n",
       " 0                    2017-10-18  \n",
       " 1                    2018-08-13  \n",
       " 2                    2018-09-04  \n",
       " 3                    2017-12-15  \n",
       " 4                    2018-02-26  ,\n",
       " (99441, 8))"
      ]
     },
     "execution_count": 11,
     "metadata": {},
     "output_type": "execute_result"
    }
   ],
   "source": [
    "orders.head(), orders.shape"
   ]
  },
  {
   "cell_type": "code",
   "execution_count": 8,
   "id": "8e374790",
   "metadata": {},
   "outputs": [],
   "source": [
    "orders['order_purchase_timestamp'] = pd.to_datetime(orders['order_purchase_timestamp'])\n",
    "orders['order_approved_at'] = pd.to_datetime(orders['order_approved_at'])\n",
    "orders['order_delivered_carrier_date'] = pd.to_datetime(orders['order_delivered_carrier_date'])\n",
    "orders['order_delivered_customer_date'] = pd.to_datetime(orders['order_delivered_customer_date'])\n",
    "orders['order_estimated_delivery_date'] = pd.to_datetime(orders['order_estimated_delivery_date'])"
   ]
  },
  {
   "cell_type": "code",
   "execution_count": 20,
   "id": "0f515b13",
   "metadata": {},
   "outputs": [
    {
     "data": {
      "text/plain": [
       "order_status\n",
       "delivered      96478\n",
       "shipped         1107\n",
       "canceled         625\n",
       "unavailable      609\n",
       "invoiced         314\n",
       "processing       301\n",
       "created            5\n",
       "approved           2\n",
       "Name: count, dtype: int64"
      ]
     },
     "execution_count": 20,
     "metadata": {},
     "output_type": "execute_result"
    }
   ],
   "source": [
    "orders['order_status'].value_counts()"
   ]
  },
  {
   "cell_type": "code",
   "execution_count": 34,
   "id": "2b8db733",
   "metadata": {},
   "outputs": [
    {
     "data": {
      "text/html": [
       "<div>\n",
       "<style scoped>\n",
       "    .dataframe tbody tr th:only-of-type {\n",
       "        vertical-align: middle;\n",
       "    }\n",
       "\n",
       "    .dataframe tbody tr th {\n",
       "        vertical-align: top;\n",
       "    }\n",
       "\n",
       "    .dataframe thead th {\n",
       "        text-align: right;\n",
       "    }\n",
       "</style>\n",
       "<table border=\"1\" class=\"dataframe\">\n",
       "  <thead>\n",
       "    <tr style=\"text-align: right;\">\n",
       "      <th></th>\n",
       "      <th>tempo_compra_para_ordem_dias</th>\n",
       "      <th>tempo_ordem_para_envio_dias</th>\n",
       "      <th>tempo_envio_para_entrega_dias</th>\n",
       "      <th>tempo_entrega_para_estimada_dias</th>\n",
       "    </tr>\n",
       "  </thead>\n",
       "  <tbody>\n",
       "    <tr>\n",
       "      <th>count</th>\n",
       "      <td>99281</td>\n",
       "      <td>97644</td>\n",
       "      <td>96475</td>\n",
       "      <td>96476</td>\n",
       "    </tr>\n",
       "    <tr>\n",
       "      <th>mean</th>\n",
       "      <td>0 days 10:25:08.739486910</td>\n",
       "      <td>2 days 19:19:15.298850927</td>\n",
       "      <td>9 days 07:55:59.254148743</td>\n",
       "      <td>-12 days +19:42:04.042383598</td>\n",
       "    </tr>\n",
       "    <tr>\n",
       "      <th>std</th>\n",
       "      <td>1 days 02:02:16.813098347</td>\n",
       "      <td>3 days 13:11:10.497083683</td>\n",
       "      <td>8 days 18:14:34.522067763</td>\n",
       "      <td>10 days 04:28:00.181984555</td>\n",
       "    </tr>\n",
       "    <tr>\n",
       "      <th>min</th>\n",
       "      <td>0 days 00:00:00</td>\n",
       "      <td>-172 days +18:44:38</td>\n",
       "      <td>-17 days +21:41:31</td>\n",
       "      <td>-147 days +23:36:47</td>\n",
       "    </tr>\n",
       "    <tr>\n",
       "      <th>25%</th>\n",
       "      <td>0 days 00:12:54</td>\n",
       "      <td>0 days 21:00:44</td>\n",
       "      <td>4 days 02:23:55.500000</td>\n",
       "      <td>-17 days +18:08:05.250000</td>\n",
       "    </tr>\n",
       "    <tr>\n",
       "      <th>50%</th>\n",
       "      <td>0 days 00:20:36</td>\n",
       "      <td>1 days 19:38:29.500000</td>\n",
       "      <td>7 days 02:23:40</td>\n",
       "      <td>-12 days +01:13:31.500000</td>\n",
       "    </tr>\n",
       "    <tr>\n",
       "      <th>75%</th>\n",
       "      <td>0 days 14:34:51</td>\n",
       "      <td>3 days 13:55:52.500000</td>\n",
       "      <td>12 days 00:41:55.500000</td>\n",
       "      <td>-7 days +14:38:24</td>\n",
       "    </tr>\n",
       "    <tr>\n",
       "      <th>max</th>\n",
       "      <td>187 days 21:10:50</td>\n",
       "      <td>125 days 18:18:06</td>\n",
       "      <td>205 days 04:35:00</td>\n",
       "      <td>188 days 23:24:07</td>\n",
       "    </tr>\n",
       "  </tbody>\n",
       "</table>\n",
       "</div>"
      ],
      "text/plain": [
       "      tempo_compra_para_ordem_dias tempo_ordem_para_envio_dias  \\\n",
       "count                        99281                       97644   \n",
       "mean     0 days 10:25:08.739486910   2 days 19:19:15.298850927   \n",
       "std      1 days 02:02:16.813098347   3 days 13:11:10.497083683   \n",
       "min                0 days 00:00:00         -172 days +18:44:38   \n",
       "25%                0 days 00:12:54             0 days 21:00:44   \n",
       "50%                0 days 00:20:36      1 days 19:38:29.500000   \n",
       "75%                0 days 14:34:51      3 days 13:55:52.500000   \n",
       "max              187 days 21:10:50           125 days 18:18:06   \n",
       "\n",
       "      tempo_envio_para_entrega_dias tempo_entrega_para_estimada_dias  \n",
       "count                         96475                            96476  \n",
       "mean      9 days 07:55:59.254148743     -12 days +19:42:04.042383598  \n",
       "std       8 days 18:14:34.522067763       10 days 04:28:00.181984555  \n",
       "min              -17 days +21:41:31              -147 days +23:36:47  \n",
       "25%          4 days 02:23:55.500000        -17 days +18:08:05.250000  \n",
       "50%                 7 days 02:23:40        -12 days +01:13:31.500000  \n",
       "75%         12 days 00:41:55.500000                -7 days +14:38:24  \n",
       "max               205 days 04:35:00                188 days 23:24:07  "
      ]
     },
     "execution_count": 34,
     "metadata": {},
     "output_type": "execute_result"
    }
   ],
   "source": [
    "def timedelta_para_dias(tdelta):\n",
    "    if pd.isna(tdelta):\n",
    "        return None\n",
    "    return tdelta.total_seconds() / (24 * 3600)  # segundos → dias\n",
    "\n",
    "# Calcular tempos em dias decimais\n",
    "orders[\"tempo_compra_para_ordem_dias\"] = (orders[\"order_approved_at\"] - orders[\"order_purchase_timestamp\"])\n",
    "orders[\"tempo_ordem_para_envio_dias\"] = (orders[\"order_delivered_carrier_date\"] - orders[\"order_approved_at\"])\n",
    "orders[\"tempo_envio_para_entrega_dias\"] = (orders[\"order_delivered_customer_date\"] - orders[\"order_delivered_carrier_date\"])\n",
    "orders[\"tempo_entrega_para_estimada_dias\"] = (orders[\"order_delivered_customer_date\"] - orders[\"order_estimated_delivery_date\"])\n",
    "\n",
    "# Mostrar resultado\n",
    "orders[[\n",
    "    \"tempo_compra_para_ordem_dias\",\n",
    "    \"tempo_ordem_para_envio_dias\",\n",
    "    \"tempo_envio_para_entrega_dias\",\n",
    "    \"tempo_entrega_para_estimada_dias\"\n",
    "]].describe()\n"
   ]
  },
  {
   "cell_type": "code",
   "execution_count": null,
   "id": "68e05364",
   "metadata": {},
   "outputs": [],
   "source": []
  }
 ],
 "metadata": {
  "kernelspec": {
   "display_name": "base",
   "language": "python",
   "name": "python3"
  },
  "language_info": {
   "codemirror_mode": {
    "name": "ipython",
    "version": 3
   },
   "file_extension": ".py",
   "mimetype": "text/x-python",
   "name": "python",
   "nbconvert_exporter": "python",
   "pygments_lexer": "ipython3",
   "version": "3.13.5"
  }
 },
 "nbformat": 4,
 "nbformat_minor": 5
}
