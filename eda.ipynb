{
 "cells": [
  {
   "cell_type": "code",
   "execution_count": 2,
   "id": "a69147dc",
   "metadata": {},
   "outputs": [],
   "source": [
    "import pandas as pd\n",
    "import numpy as np\n",
    "import seaborn as sns\n",
    "import matplotlib.pyplot as plt"
   ]
  },
  {
   "cell_type": "markdown",
   "id": "01c2ff19",
   "metadata": {},
   "source": [
    "# Brazilian Ecommerce Public Dataset Olist\n",
    "\n",
    "You can find this data in <a>https://www.kaggle.com/datasets/olistbr/brazilian-ecommerce/code</a>"
   ]
  },
  {
   "cell_type": "code",
   "execution_count": null,
   "id": "a34e14b6",
   "metadata": {},
   "outputs": [],
   "source": []
  },
  {
   "cell_type": "markdown",
   "id": "41fe21fa",
   "metadata": {},
   "source": [
    "## Load Data"
   ]
  },
  {
   "cell_type": "code",
   "execution_count": null,
   "id": "fbf551a0",
   "metadata": {},
   "outputs": [],
   "source": [
    "orders = pd.read_csv(\"olist/olist_orders_dataset.csv\")\n",
    "orders_item= pd.read_csv(\"olist\\olist_order_items_dataset.csv\")\n",
    "produts = pd.read_csv(\"olist\\olist_products_dataset.csv\")\n",
    "\n",
    "customers = pd.read_csv(\"olist\\olist_customers_dataset.csv\")\n",
    "geolocation = pd.read_csv(\"olist\\olist_geolocation_dataset.csv\")\n",
    "payment = pd.read_csv(\"\")\n",
    "\n"
   ]
  }
 ],
 "metadata": {
  "kernelspec": {
   "display_name": "base",
   "language": "python",
   "name": "python3"
  },
  "language_info": {
   "codemirror_mode": {
    "name": "ipython",
    "version": 3
   },
   "file_extension": ".py",
   "mimetype": "text/x-python",
   "name": "python",
   "nbconvert_exporter": "python",
   "pygments_lexer": "ipython3",
   "version": "3.13.5"
  }
 },
 "nbformat": 4,
 "nbformat_minor": 5
}
